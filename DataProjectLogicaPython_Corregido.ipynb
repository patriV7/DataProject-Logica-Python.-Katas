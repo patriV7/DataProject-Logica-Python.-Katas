{
 "cells": [
  {
   "cell_type": "code",
   "execution_count": null,
   "id": "7b8b31f5",
   "metadata": {},
   "outputs": [
    {
     "ename": "",
     "evalue": "",
     "output_type": "error",
     "traceback": [
      "\u001b[1;31mNo se pudo iniciar el Kernel. \n",
      "\u001b[1;31mNo se ha podido iniciar el Kernel \"Python 3.13.2\" debido a un tiempo de espera para que se utilicen los puertos. \n",
      "\u001b[1;31mVer Jupyter <a href='command:jupyter.viewOutput'>log</a> para más detalles."
     ]
    }
   ],
   "source": [
    "# Ejercicio 1.\n",
    "def contar_frecuencias(cadena):   \n",
    "    \"\"\"\n",
    "    Esta función recibe una cadena de texto como parámetro y devuelve un diccionario con las frecuencias de cada letra en la cadena. \n",
    "    Los espacios no son considerados\n",
    "\n",
    "    Args:\n",
    "        cadena (str): Cadena de texto.\n",
    "\n",
    "    Returns:\n",
    "        diccionario: Frecuencia de cada letra de la cadena de texto sin considerar los espacios.\n",
    "    \"\"\"\n",
    "    frecuencias = {}\n",
    "    for letra in cadena:\n",
    "        if letra != ' ':\n",
    "            letra_lower = letra.lower()\n",
    "            frecuencias[letra_lower] = frecuencias.get(letra_lower, 0) + 1\n",
    "    return frecuencias\n",
    "\n",
    "# Ejemplo ejercicio 1:\n",
    "cadena = 'Hola mundo'\n",
    "contar_frecuencias(cadena)"
   ]
  },
  {
   "cell_type": "code",
   "execution_count": null,
   "id": "bbd34174",
   "metadata": {},
   "outputs": [],
   "source": [
    "# Ejercicio 2.\n",
    "def doble_valores(lista):\n",
    "    \"\"\"\n",
    "    Esta función, dada una lista de números, obtiene una nueva lista con el doble de cada valor.\n",
    "\n",
    "    Args:\n",
    "        lista (list): lista de números.\n",
    "\n",
    "    Returns:\n",
    "        list: Calcula el doble de cada valor de la lista de números dada.\n",
    "    \"\"\"\n",
    "    return list(map(lambda x: x * 2, lista))\n",
    "\n",
    "# Ejemplo ejercicio 2:\n",
    "lista = [1,2,3,4]\n",
    "doble_valores(lista)"
   ]
  },
  {
   "cell_type": "code",
   "execution_count": null,
   "id": "981f9af2",
   "metadata": {},
   "outputs": [],
   "source": [
    "# Ejercicio 3.\n",
    "def palabras_con_objetivo(lista_palabras, objetivo):\n",
    "    \"\"\"\n",
    "    Esta función toma una lista de palabras y una palabra objetivo como parámetros y devuelve una lista con todas las palabras \n",
    "    de la lista original que contengan la palabra objetivo.\n",
    "\n",
    "    Args:\n",
    "        lista_palabras (list): lista de palabras.\n",
    "        objetivo (str): palabra objetivo.\n",
    "\n",
    "    Returns:\n",
    "        list: lista con todas las palabras de la lista original que contengan la palabra objetivo.\n",
    "    \"\"\"\n",
    "    return [palabra for palabra in lista_palabras if objetivo in palabra]\n",
    "\n",
    "#Ejemplo ejercicio 3:\n",
    "lista_palabras = ['manzana', 'rojo', 'casa', 'puerta']\n",
    "objetivo = 'rojo'\n",
    "palabras_con_objetivo (lista_palabras, objetivo)"
   ]
  },
  {
   "cell_type": "code",
   "execution_count": null,
   "id": "da75e3b2",
   "metadata": {},
   "outputs": [],
   "source": [
    "# Ejercicio 4.\n",
    "def diferencias(lista1, lista2):\n",
    "    \"\"\"\n",
    "    Esta función calcula la diferencia entre los valores de dos listas.\n",
    "\n",
    "    Args:\n",
    "        lista1 (list): lista de números.\n",
    "        lista2 (list): lista de números.\n",
    "\n",
    "    Returns:\n",
    "        list: calcula la diferencia entre los valores de las dos listas.\n",
    "    \"\"\"\n",
    "    return list(map(lambda x, y: x - y, lista1, lista2))\n",
    "\n",
    "# Ejemplo ejercicio 4:\n",
    "lista1 = [1,2,3]\n",
    "lista2 = [4,5,6]\n",
    "diferencias(lista1, lista2)"
   ]
  },
  {
   "cell_type": "code",
   "execution_count": null,
   "id": "40ceedbb",
   "metadata": {},
   "outputs": [],
   "source": [
    "# Ejercicio 5.\n",
    "def evaluar_notas(notas, nota_aprobado = 5):\n",
    "    \"\"\"\n",
    "    Esta función toma una lista de números como parámetro y un valor opcional nota_aprobado, que por defecto es 5. \n",
    "    La función calcula la media de los números en la lista y determinar si la media es mayor o igual que nota aprobado. \n",
    "    Si es así, el estado será \"aprobado\", de lo contrario, será \"suspenso\". \n",
    "    La función devuelve una tupla que contiene la media y el estado.\n",
    "\n",
    "    Args:\n",
    "        notas (list): lista de números.\n",
    "        nota_aprobado (int,float): valor 5.\n",
    "\n",
    "    Returns:\n",
    "        tuple: tupla que contiene la media y el estado.\n",
    "    \"\"\"\n",
    "    if not notas:\n",
    "        return (0, 'suspenso')\n",
    "    media = sum(notas) / len(notas)\n",
    "    estado = 'aprobado' if media >= nota_aprobado else 'suspenso'\n",
    "    return (media, estado)\n",
    "\n",
    "# Ejemplo ejercicio 5:\n",
    "notas = [0, 7, 3]\n",
    "evaluar_notas(notas, nota_aprobado = 5)"
   ]
  },
  {
   "cell_type": "code",
   "execution_count": 2,
   "id": "34c4e0a8",
   "metadata": {},
   "outputs": [
    {
     "data": {
      "text/plain": [
       "6"
      ]
     },
     "execution_count": 2,
     "metadata": {},
     "output_type": "execute_result"
    }
   ],
   "source": [
    "# Ejercicio 6: \n",
    "def factorial(n):\n",
    "    \"\"\"\n",
    "    Calcula el factorial de un número entero no negativo de forma iterativa.\n",
    "\n",
    "    Args:\n",
    "        n (int): número entero >= 0.\n",
    "\n",
    "    Returns:\n",
    "        int: factorial de n.\n",
    "    \"\"\"\n",
    "    if not isinstance(n, int):\n",
    "        raise TypeError(\"El factorial solo está definido para enteros.\")\n",
    "    if n < 0:\n",
    "        raise ValueError(\"El factorial no está definido para números negativos.\")\n",
    "    resultado = 1\n",
    "    for i in range(2, n + 1):\n",
    "        resultado *= i\n",
    "    return resultado\n",
    "\n",
    "# Ejemplo ejercicio 6:\n",
    "n = 3\n",
    "factorial(3)"
   ]
  },
  {
   "cell_type": "code",
   "execution_count": 5,
   "id": "97cd7f12",
   "metadata": {},
   "outputs": [
    {
     "data": {
      "text/plain": [
       "tuple"
      ]
     },
     "execution_count": 5,
     "metadata": {},
     "output_type": "execute_result"
    }
   ],
   "source": [
    "# Ejercicio 7: \n",
    "def tuplas_a_strings(lista_tuplas):\n",
    "    \"\"\"\n",
    "    Convierte una lista de tuplas en una lista de strings, \n",
    "    formateando cada tupla como elementos separados por comas.\n",
    "    \"\"\"\n",
    "    return ['(' + ', '.join(str(elem) for elem in t) + ')' for t in lista_tuplas]\n",
    "\n",
    "# Ejemplo ejercicio 7:\n",
    "lista_tuplas = (\"HOLA\",\"MUNDO\",\"PYTHON\")\n",
    "type(lista_tuplas)\n",
    "\n",
    "tuplas_a_strings(lista_tuplas)\n",
    "type(lista_tuplas)"
   ]
  },
  {
   "cell_type": "code",
   "execution_count": null,
   "id": "040693fb",
   "metadata": {},
   "outputs": [
    {
     "name": "stdout",
     "output_type": "stream",
     "text": [
      "Error: Por favor, ingresa valores numéricos válidos.\n"
     ]
    }
   ],
   "source": [
    "# Ejercicio 8: \n",
    "\"\"\"\n",
    "    Programa que pide al usuario dos números e intenta dividirlos. \n",
    "    Si el usuario ingresa un valor no numérico o intenta dividir por cero, muestra un mensaje de error\n",
    "    Además, muestra un mensaje indicando si la división fue exitosa o no.\n",
    "\n",
    "\"\"\"\n",
    "try:\n",
    "    num1 = float(input(\"Ingresa el primer número: \"))\n",
    "    num2 = float(input(\"Ingresa el segundo número: \"))\n",
    "    resultado = num1 / num2\n",
    "    print(f\"La división es: {resultado}\")\n",
    "    print(\"La división fue exitosa.\")\n",
    "except ValueError:\n",
    "    print(\"Error: Por favor, ingresa valores numéricos válidos.\")\n",
    "except ZeroDivisionError:\n",
    "    print(\"Error: No se puede dividir por cero.\")"
   ]
  },
  {
   "cell_type": "code",
   "execution_count": 7,
   "id": "a0e34dfd",
   "metadata": {},
   "outputs": [
    {
     "data": {
      "text/plain": [
       "['Perro', 'Gato']"
      ]
     },
     "execution_count": 7,
     "metadata": {},
     "output_type": "execute_result"
    }
   ],
   "source": [
    "# Ejercicio 9: \n",
    "def filtrar_mascotas(mascotas):\n",
    "    \"\"\"\n",
    "    Esta función toma una lista de nombres de mascotas como parámetro y devuelva una nueva lista excluyendo ciertas mascotas prohibidas \n",
    "    en España.\n",
    "\n",
    "    Args:\n",
    "        mascotas (list): lista de mascotas.\n",
    "\n",
    "    Returns:\n",
    "        list: lista con los nombres de las mascotas de la lista indicada excluyendo las mascotas prohibidas.\n",
    "    \"\"\"\n",
    "    prohibidas = {\"mapache\", \"tigre\", \"serpiente pitón\", \"cocodrilo\", \"oso\"}\n",
    "    return [m for m in mascotas\n",
    "        if m.lower() not in prohibidas]\n",
    "\n",
    "# Ejemplo ejercicio 9:\n",
    "mascotas = (\"tigre\", \"Perro\", \"Gato\")\n",
    "filtrar_mascotas(mascotas)"
   ]
  },
  {
   "cell_type": "code",
   "execution_count": null,
   "id": "53f9f1f1",
   "metadata": {},
   "outputs": [
    {
     "name": "stdout",
     "output_type": "stream",
     "text": [
      "El promedio es: 20.0\n",
      "Error: La lista está vacía, no se puede calcular el promedio.\n"
     ]
    }
   ],
   "source": [
    "# Ejercicio 10: \n",
    "class ListaVaciaError(Exception):\n",
    "    pass\n",
    "\n",
    "def promedio(numeros):\n",
    "    \"\"\"\n",
    "    Esta función recibe una lista de números y calcula su promedio.\n",
    "\n",
    "    Args:\n",
    "        numeros (list): lista de números.\n",
    "\n",
    "    Returns:\n",
    "        float: calculo del promedio de los valores indicados en la lista.\n",
    "    \"\"\"\n",
    "    if not numeros:\n",
    "        raise ListaVaciaError(\"La lista está vacía, no se puede calcular el promedio.\")\n",
    "    return sum(numeros) / len(numeros)\n",
    "\n",
    "# Ejemplo manejo del error:\n",
    "try:\n",
    "    nums = [10, 20, 30]\n",
    "    print(f\"El promedio es: {promedio(nums)}\")\n",
    "    vacia = []\n",
    "    print(f\"El promedio es: {promedio(vacia)}\")\n",
    "except ListaVaciaError as e:\n",
    "    print(f\"Error: {e}\")"
   ]
  },
  {
   "cell_type": "code",
   "execution_count": null,
   "id": "c87cdade",
   "metadata": {},
   "outputs": [
    {
     "name": "stdout",
     "output_type": "stream",
     "text": [
      "Entrada no válida. Por favor, ingresa un número válido.\n"
     ]
    }
   ],
   "source": [
    "# Ejercicio 11. Programa que pide al usuario que introduzca su edad y devuelve un mensaje.\n",
    "def solicitar_edad():\n",
    "    while True:\n",
    "        try:\n",
    "            edad = int(input(\"Por favor, ingresa tu edad: \"))\n",
    "            if edad < 0 or edad > 120:\n",
    "                print(\"La edad debe estar entre 0 y 120. Inténtalo de nuevo.\")\n",
    "            else:\n",
    "                print(f\"¡Gracias! Tu edad es {edad}.\")\n",
    "                return edad\n",
    "        except ValueError:\n",
    "            print(\"Entrada no válida. Por favor, ingresa un número válido.\")\n",
    "\n",
    "# Llamada a la función\n",
    "solicitar_edad()"
   ]
  },
  {
   "cell_type": "code",
   "execution_count": null,
   "id": "ef4f3925",
   "metadata": {},
   "outputs": [
    {
     "name": "stdout",
     "output_type": "stream",
     "text": [
      "[5, 5, 5, 5]\n"
     ]
    }
   ],
   "source": [
    "# Ejercicio 12: \n",
    "import string\n",
    "\n",
    "def longitudes_palabras(frase):\n",
    "    # Dividir la frase en palabras usando split()\n",
    "    palabras = frase.split()\n",
    "    longitudes = []\n",
    "\n",
    "    for palabra in palabras:\n",
    "        # Quitar signos de puntuación al inicio y al final de la palabra\n",
    "        palabra_limpia = palabra.strip(string.punctuation)\n",
    "        # Agregar la longitud de la palabra limpia a la lista\n",
    "        longitudes.append(len(palabra_limpia))\n",
    "    \n",
    "    return longitudes\n",
    "\n",
    "# Ejemplo de uso:\n",
    "frase = \"¡Hola, mundo! ¿Cómo estás?\"\n",
    "print(longitudes_palabras(frase))\n"
   ]
  },
  {
   "cell_type": "code",
   "execution_count": 21,
   "id": "0e09f20e",
   "metadata": {},
   "outputs": [
    {
     "name": "stdout",
     "output_type": "stream",
     "text": [
      "[('A', 'a'), ('D', 'd'), ('H', 'h'), ('L', 'l'), ('M', 'm'), ('N', 'n'), ('O', 'o'), ('U', 'u')]\n"
     ]
    }
   ],
   "source": [
    "# Ejercicio 13: \n",
    "import string\n",
    "\n",
    "def letras_mayus_minus(cadena):\n",
    "    \"\"\"\n",
    "    Esta función, para un conjunto de caracteres, devuelve una lista de tuplas con cada letra en mayúsculas y minúsculas. \n",
    "    Las letras no pueden estar repetidas.\n",
    "\n",
    "    Args:\n",
    "        cadena (list): lista de caracteres.\n",
    "\n",
    "    Returns:\n",
    "        tuple: lista de tuplas con cada letra en mayúsculas y minúsculas.\n",
    "    \"\"\"\n",
    "    letras = [c for c in cadena.lower() if c.isalpha()]\n",
    "    unicas = sorted(set(letras))\n",
    "    return [(c.upper(), c) for c in unicas]\n",
    "\n",
    "# Ejemplo ejercicio 13:\n",
    "cadena = \"Hola Mundo\"\n",
    "print(letras_mayus_minus(cadena))"
   ]
  },
  {
   "cell_type": "code",
   "execution_count": null,
   "id": "18e4f0b5",
   "metadata": {},
   "outputs": [],
   "source": [
    "# Ejercicio 14: \n",
    "def palabras_inician_con(palabras, letra):\n",
    "    \"\"\"\n",
    "    Esta función retorna las palabras de una lista de palabras que comience con una letra en especifico.\n",
    "\n",
    "    Args:\n",
    "        palabras (list): lista de palabras.\n",
    "        letra (str): letra específica.\n",
    "\n",
    "    Returns:\n",
    "        list: lista de palabras que comienzan con una letra en especifico.\n",
    "    \"\"\"\n",
    "    letra = letra.lower()\n",
    "    return list(filter(lambda p: p.lower().startswith(letra), palabras))\n",
    "\n",
    "# Ejemplo ejercicio 14:\n",
    "lista_palabras = [\"Manzana\", \"Melón\", \"Naranja\", \"Mango\", \"Melodía\"]\n",
    "letra_busqueda = \"M\"\n",
    "print(palabras_inician_con(lista_palabras, letra_busqueda))"
   ]
  },
  {
   "cell_type": "code",
   "execution_count": null,
   "id": "0f7d23fb",
   "metadata": {},
   "outputs": [],
   "source": [
    "# Ejercicio 15: Función lambda que suma 3 a cada número de una lista\n",
    "numeros = [1, 2, 3, 4, 5]\n",
    "suma_tres = list(map(lambda x: x + 3, numeros))\n",
    "print(suma_tres)"
   ]
  },
  {
   "cell_type": "code",
   "execution_count": null,
   "id": "496bd87c",
   "metadata": {},
   "outputs": [],
   "source": [
    "# Ejercicio 16: \n",
    "def palabras_mas_largas(texto, n):\n",
    "    \"\"\"\n",
    "    Esta función toma una cadena de texto y un número entero n como parámetros y devuelve una lista de todas las palabras \n",
    "    que sean más largas que n.\n",
    "\n",
    "    Args:\n",
    "        texto (str): cadena de texto.\n",
    "        n (int): número entero.\n",
    "\n",
    "    Returns:\n",
    "        list: lista de palabras que sean más largas que n.\n",
    "    \"\"\"\n",
    "    palabras = texto.split()\n",
    "    return list(filter(lambda p: len(p) > n, palabras))\n",
    "\n",
    "# Ejemplo de uso\n",
    "texto = \"Esta es una prueba para filtrar palabras largas\"\n",
    "n = 4\n",
    "print(palabras_mas_largas(texto, n))"
   ]
  },
  {
   "cell_type": "code",
   "execution_count": null,
   "id": "8aaf791b",
   "metadata": {},
   "outputs": [],
   "source": [
    "# Ejercicio 17:\n",
    "from functools import reduce\n",
    "\n",
    "def lista_a_numero(digitos):\n",
    "    \"\"\"\n",
    "    Esta función toma una lista de dígitos y devuelva el número correspondiente.\n",
    "\n",
    "    Args:\n",
    "        digitos (list): lista de números.\n",
    "\n",
    "    Returns:\n",
    "        numero: número que se forma con la lista de dígitos.\n",
    "    \"\"\"\n",
    "    return reduce(lambda x, y: x * 10 + y, digitos)\n",
    "\n",
    "# Ejemplo:\n",
    "digitos = [5, 7, 2]\n",
    "numero = lista_a_numero(digitos)\n",
    "print(numero)  # Salida: 572"
   ]
  },
  {
   "cell_type": "code",
   "execution_count": null,
   "id": "a76b6d48",
   "metadata": {},
   "outputs": [],
   "source": [
    "# Ejercicio 18: Programa que crea una lista de diccionarios que contiene información de estudiantes (nombre, edad, calificación) \n",
    "# y usa la función filter() para extraer a los estudiantes con una calificación mayor o igual a 90.\n",
    "estudiantes = [\n",
    "    {'nombre': 'Ana', 'edad': 20, 'calificación': 95},\n",
    "    {'nombre': 'Luis', 'edad': 22, 'calificación': 88},\n",
    "    {'nombre': 'Carlos', 'edad': 21, 'calificación': 92},\n",
    "    {'nombre': 'María', 'edad': 19, 'calificación': 85}\n",
    "]\n",
    "\n",
    "aprobados = list(filter(lambda e: e['calificación'] >= 90, estudiantes))\n",
    "print(aprobados)\n",
    "# Salida: [{'nombre': 'Ana', 'edad': 20, 'calificación': 95}, {'nombre': 'Carlos', 'edad': 21, 'calificación': 92}]"
   ]
  },
  {
   "cell_type": "code",
   "execution_count": null,
   "id": "a8c2e19a",
   "metadata": {},
   "outputs": [],
   "source": [
    "# Ejercicio 19: Función lambda que filtra los números impares de una lista.\n",
    "impares = lambda lista: list(filter(lambda x: x % 2 != 0, lista))\n",
    "\n",
    "# Ejemplo:\n",
    "numeros = [1, 2, 3, 4, 5]\n",
    "print(impares(numeros))  # Salida: [1, 3, 5]"
   ]
  },
  {
   "cell_type": "code",
   "execution_count": null,
   "id": "d8392251",
   "metadata": {},
   "outputs": [],
   "source": [
    "# Ejercicio 20: Programa que para una lista que contiene int y str obtiene una nueva lista sólo con int.\n",
    "valores = [1, 'a', 3, 'b', 5]\n",
    "solo_int = list(filter(lambda x: isinstance(x, int), valores))\n",
    "print(solo_int)  # Salida: [1, 3, 5]"
   ]
  },
  {
   "cell_type": "code",
   "execution_count": null,
   "id": "6bb4115a",
   "metadata": {},
   "outputs": [],
   "source": [
    "# Ejercicio 21: Función que calcula el cubo de un número\n",
    "cubo = lambda x: x ** 3\n",
    "\n",
    "# Ejemplo:\n",
    "print(cubo(4))  # Salida: 64"
   ]
  },
  {
   "cell_type": "code",
   "execution_count": null,
   "id": "3577ee9e",
   "metadata": {},
   "outputs": [],
   "source": [
    "# Ejercicio 22: Dada una lista númerica, se obtiene el producto de los números de dicha lista.\n",
    "from functools import reduce\n",
    "\n",
    "numeros = [2, 3, 4]\n",
    "producto_total = reduce(lambda x, y: x * y, numeros)\n",
    "print(producto_total)  # Salida: 24"
   ]
  },
  {
   "cell_type": "code",
   "execution_count": null,
   "id": "6df79864",
   "metadata": {},
   "outputs": [],
   "source": [
    "# Ejercicio 23: Función que concatena una lista de palabras.\n",
    "from functools import reduce\n",
    "\n",
    "palabras = ['Hola', ' ', 'mundo', '!']\n",
    "frase = reduce(lambda x, y: x + y, palabras)\n",
    "print(frase)  # Salida: Hola mundo!"
   ]
  },
  {
   "cell_type": "code",
   "execution_count": null,
   "id": "79a9d9f2",
   "metadata": {},
   "outputs": [],
   "source": [
    "# Ejercicio 24: Función que calcula la diferencia total entre los valores de una lista.\n",
    "from functools import reduce\n",
    "\n",
    "numeros = [100, 20, 30]\n",
    "diferencia = reduce(lambda x, y: x - y, numeros)\n",
    "print(diferencia)  # Salida: 50 (100 - 20 - 30)"
   ]
  },
  {
   "cell_type": "code",
   "execution_count": 2,
   "id": "3b469695",
   "metadata": {},
   "outputs": [
    {
     "data": {
      "text/plain": [
       "17"
      ]
     },
     "execution_count": 2,
     "metadata": {},
     "output_type": "execute_result"
    }
   ],
   "source": [
    "# Ejercicio 25:\n",
    "def contar_caracteres(cadena):\n",
    "    \"\"\"\n",
    "    Esta función cuenta el números de caracteres en una cadena de texto dada.\n",
    "\n",
    "    Args:\n",
    "        cadena (str): cadena de texto.\n",
    "\n",
    "    Returns:\n",
    "        int: número de caracteres de la cadena de texto.\n",
    "    \"\"\"\n",
    "    return len(cadena)\n",
    "\n",
    "# Ejemplo ejercicio 25:\n",
    "cadena = \"Hola mundo Python\"\n",
    "contar_caracteres(cadena)"
   ]
  },
  {
   "cell_type": "code",
   "execution_count": 25,
   "id": "5ca22c23",
   "metadata": {},
   "outputs": [
    {
     "name": "stdout",
     "output_type": "stream",
     "text": [
      "0\n"
     ]
    }
   ],
   "source": [
    "# Ejercicio 26: Función lambda que calcula el resto de la división entre dos números dados.\n",
    "resto = lambda a, b: a % b\n",
    "\n",
    "# Ejemplo ejercicio 26:\n",
    "a = 30\n",
    "b = 6\n",
    "print(resto(a, b))"
   ]
  },
  {
   "cell_type": "code",
   "execution_count": 10,
   "id": "5172fbed",
   "metadata": {},
   "outputs": [
    {
     "data": {
      "text/plain": [
       "3.0"
      ]
     },
     "execution_count": 10,
     "metadata": {},
     "output_type": "execute_result"
    }
   ],
   "source": [
    "# Ejercicio 27:\n",
    "def calcular_promedio(lista):\n",
    "    \"\"\"\n",
    "    Esta función calcula el promedio de una lista de números.\n",
    "\n",
    "    Args:\n",
    "        lista (list): lista de números.\n",
    "\n",
    "    Returns:\n",
    "        float: promedio de la lista de números dada.\n",
    "    \"\"\"\n",
    "    if not lista:\n",
    "        return 0\n",
    "    return sum(lista) / len(lista)\n",
    "\n",
    "# Ejemplo ejercicio 27:\n",
    "lista = [2,3,4]\n",
    "calcular_promedio(lista)"
   ]
  },
  {
   "cell_type": "code",
   "execution_count": 12,
   "id": "faf69e9a",
   "metadata": {},
   "outputs": [
    {
     "data": {
      "text/plain": [
       "'agua'"
      ]
     },
     "execution_count": 12,
     "metadata": {},
     "output_type": "execute_result"
    }
   ],
   "source": [
    "# Ejercicio 28:\n",
    "def primer_duplicado(lista):\n",
    "    \"\"\"\n",
    "    Esta función busca y devuelve el primer elemento duplicado en una lista dada.\n",
    "\n",
    "    Args:\n",
    "        lista (list): lista de elementos.\n",
    "\n",
    "    Returns:\n",
    "        str: primer elemento duplicado de la lista dada.\n",
    "    \"\"\"\n",
    "    vistos = set()\n",
    "    for elemento in lista:\n",
    "        if elemento in vistos:\n",
    "            return elemento\n",
    "        vistos.add(elemento)\n",
    "    return None  # Si no hay duplicados\n",
    "\n",
    "# Ejemplo ejercicio 28:\n",
    "lista = [\"agua\", \"cocacola\", 2, 4, \"agua\", 4]\n",
    "primer_duplicado(lista)"
   ]
  },
  {
   "cell_type": "code",
   "execution_count": 13,
   "id": "f37fefee",
   "metadata": {},
   "outputs": [
    {
     "data": {
      "text/plain": [
       "'####illo'"
      ]
     },
     "execution_count": 13,
     "metadata": {},
     "output_type": "execute_result"
    }
   ],
   "source": [
    "# Ejercicio 29:\n",
    "def enmascarar(variable):\n",
    "    \"\"\"\n",
    "    Esta función convierte una variable en una cadena de texto y enmascare todos los caracteres  con el carácter '#', \n",
    "    excepto los últimos cuatro.\n",
    "\n",
    "    Args:\n",
    "        variable (str): variable.\n",
    "\n",
    "    Returns:\n",
    "        cadena de texto con los caracteres enmascarados con una #, excepto los cuatro últimos\n",
    "    \"\"\"\n",
    "    texto = str(variable)\n",
    "    if len(texto) <= 4:\n",
    "        return '#' * len(texto)\n",
    "    return '#' * (len(texto) - 4) + texto[-4:]\n",
    "\n",
    "#Ejemplo ejercicio 29:\n",
    "variable = \"tornillo\"\n",
    "enmascarar(variable)"
   ]
  },
  {
   "cell_type": "code",
   "execution_count": null,
   "id": "b4439206",
   "metadata": {},
   "outputs": [
    {
     "data": {
      "text/plain": [
       "False"
      ]
     },
     "execution_count": 14,
     "metadata": {},
     "output_type": "execute_result"
    }
   ],
   "source": [
    "# Ejercicio 30:\n",
    "def son_anagramas(palabra1, palabra2):\n",
    "    \"\"\"\n",
    "    Esta función determina si dos palabras con anagramas\n",
    "\n",
    "    Args:\n",
    "        palabra1 (str): palabra.\n",
    "        palabra2 (str): palabra\n",
    "\n",
    "    Returns:\n",
    "        Bool: True si son anagramas, False si no lo son.\n",
    "    \"\"\"  \n",
    "    return sorted(palabra1.lower()) == sorted(palabra2.lower())\n",
    "\n",
    "# Ejemplo ejercicio 30:\n",
    "palabra1 = \"Hola\"\n",
    "palabra2 = \"Ola\"\n",
    "son_anagramas(palabra1, palabra2)"
   ]
  },
  {
   "cell_type": "code",
   "execution_count": null,
   "id": "4e544612",
   "metadata": {},
   "outputs": [],
   "source": [
    "# Ejercicio 31: Crea una función que solicite al usuario ingresar una lista de nombres y luego solicite un nombre \n",
    "# para buscar en esa lista. Si el nombre está en la lista, se imprime un mensaje indicando que fue encontrado, \n",
    "# de lo contrario, se lanza una excepción.\n",
    "def buscar_nombre():\n",
    "    nombres = input(\"Ingresa una lista de nombres separados por comas: \").split(',')\n",
    "    nombres = [nombre.strip() for nombre in nombres]\n",
    "    nombre_buscar = input(\"Ingresa el nombre a buscar: \").strip()\n",
    "    if nombre_buscar in nombres:\n",
    "        print(f\"El nombre '{nombre_buscar}' fue encontrado.\")\n",
    "    else:\n",
    "        raise ValueError(f\"El nombre '{nombre_buscar}' no se encuentra en la lista.\")\n"
   ]
  },
  {
   "cell_type": "code",
   "execution_count": 20,
   "id": "e847c8fe",
   "metadata": {},
   "outputs": [
    {
     "name": "stdout",
     "output_type": "stream",
     "text": [
      "Gerente\n"
     ]
    }
   ],
   "source": [
    "# Ejercicio 32: Crea una función que tome un nombre completo y una lista de empleados, \n",
    "# busque el nombre completo en la lista y devuelve el puesto del empleado si está en la lista, \n",
    "# de lo contrario, devuelve un mensaje indicando que la persona no trabaja aquí.\n",
    "def buscar_puesto(nombre_completo, empleados):\n",
    "    for empleado in empleados:\n",
    "        if empleado['nombre'].lower() == nombre_completo.lower():\n",
    "            return empleado['puesto']\n",
    "    return \"La persona no trabaja aquí.\"\n",
    "\n",
    "\n",
    "empleados = [\n",
    "    {'nombre': 'Juan Perez', 'puesto': 'Gerente'},\n",
    "    {'nombre': 'Ana Gómez', 'puesto': 'Asistente'},\n",
    "]\n",
    "print(buscar_puesto('Juan Perez', empleados))"
   ]
  },
  {
   "cell_type": "code",
   "execution_count": null,
   "id": "2c4646d7",
   "metadata": {},
   "outputs": [],
   "source": [
    "# Ejercicio 33: Crea una función lambda que sume elementos correspondientes de dos listas dadas.\n",
    "sumar_listas = lambda lista1, lista2: [a + b for a, b in zip(lista1, lista2)]\n"
   ]
  },
  {
   "cell_type": "code",
   "execution_count": 24,
   "id": "6dc20917",
   "metadata": {},
   "outputs": [
    {
     "name": "stdout",
     "output_type": "stream",
     "text": [
      "{'longitud_tronco': 2, 'numero_ramas': 1, 'longitudes_ramas': [2]}\n"
     ]
    }
   ],
   "source": [
    "# Ejercicio 34: Clase Arbol\n",
    "class Arbol:\n",
    "    def __init__(self):\n",
    "        self.tronco = 1  # Longitud inicial del tronco\n",
    "        self.ramas = []  # Lista de longitudes de las ramas\n",
    "\n",
    "    def crecer_tronco(self):\n",
    "        self.tronco += 1\n",
    "\n",
    "    def nueva_rama(self):\n",
    "        self.ramas.append(1)\n",
    "\n",
    "    def crecer_ramas(self):\n",
    "        self.ramas = [longitud + 1 for longitud in self.ramas]\n",
    "\n",
    "    def quitar_rama(self, posicion):\n",
    "        if 0 <= posicion < len(self.ramas):\n",
    "            self.ramas.pop(posicion)\n",
    "        else:\n",
    "            print(\"Posición inválida para quitar rama.\")\n",
    "\n",
    "    def info_arbol(self):\n",
    "        info = {\n",
    "            'longitud_tronco': self.tronco,\n",
    "            'numero_ramas': len(self.ramas),\n",
    "            'longitudes_ramas': self.ramas\n",
    "        }\n",
    "        return info\n",
    "\n",
    "# Uso del árbol\n",
    "arbol = Arbol()\n",
    "arbol.crecer_tronco()\n",
    "arbol.nueva_rama()\n",
    "arbol.crecer_ramas()\n",
    "arbol.nueva_rama()\n",
    "arbol.quitar_rama(1)\n",
    "print(arbol.info_arbol())"
   ]
  },
  {
   "cell_type": "code",
   "execution_count": 26,
   "id": "33974686",
   "metadata": {},
   "outputs": [
    {
     "name": "stdout",
     "output_type": "stream",
     "text": [
      "No hay suficiente saldo para transferir 80. Saldo actual: 70\n",
      "Alicia tiene saldo: 50\n",
      "Bob tiene saldo: 70\n"
     ]
    }
   ],
   "source": [
    "# Ejercicio 35: Clase UsuarioBanco\n",
    "class UsuarioBanco:\n",
    "    def __init__(self, nombre, saldo, tiene_cuenta_corriente):\n",
    "        self.nombre = nombre\n",
    "        self.saldo = saldo\n",
    "\n",
    "    def retirar_dinero(self, cantidad):\n",
    "        if cantidad > self.saldo:\n",
    "            raise ValueError(f\"No hay suficiente saldo para retirar {cantidad}. Saldo actual: {self.saldo}\")\n",
    "        self.saldo -= cantidad\n",
    "\n",
    "    def transferir_dinero(self, otro_usuario, cantidad):\n",
    "        if cantidad > self.saldo:\n",
    "            raise ValueError(f\"No hay suficiente saldo para transferir {cantidad}. Saldo actual: {self.saldo}\")\n",
    "        self.retirar_dinero(cantidad)\n",
    "        otro_usuario.agregar_dinero(cantidad)\n",
    "\n",
    "    def agregar_dinero(self, cantidad):\n",
    "        self.saldo += cantidad\n",
    "\n",
    "# Uso de los usuarios\n",
    "usuario1 = UsuarioBanco(\"Alicia\", 100, True)\n",
    "usuario2 = UsuarioBanco(\"Bob\", 50, True)\n",
    "\n",
    "# Agregar saldo a Bob\n",
    "usuario2.agregar_dinero(20)\n",
    "\n",
    "# Transferir dinero de Bob a Alicia\n",
    "try:\n",
    "    usuario2.transferir_dinero(usuario1, 80)\n",
    "except ValueError as e:\n",
    "    print(e)\n",
    "\n",
    "# Retirar saldo de Alicia\n",
    "try:\n",
    "    usuario1.retirar_dinero(50)\n",
    "except ValueError as e:\n",
    "    print(e)\n",
    "\n",
    "# Mostrar resultados\n",
    "print(f\"{usuario1.nombre} tiene saldo: {usuario1.saldo}\")\n",
    "print(f\"{usuario2.nombre} tiene saldo: {usuario2.saldo}\")"
   ]
  },
  {
   "cell_type": "code",
   "execution_count": null,
   "id": "0727889b",
   "metadata": {},
   "outputs": [
    {
     "name": "stdout",
     "output_type": "stream",
     "text": [
      "{'hola,': 1, 'este': 2, 'es': 2, 'un': 2, 'ejemplo': 1, 'de': 1, 'texto.': 1, 'texto': 1, 'solo': 1, 'ejemplo.': 1}\n",
      "Hola, este es un muestra de texto. Este texto es solo un ejemplo.\n",
      "Hola, este un ejemplo de texto. Este texto solo un ejemplo.\n"
     ]
    }
   ],
   "source": [
    "# Ejercicio 36. Función procesar texto.\n",
    "# Función para contar cuántas veces aparece cada palabra en el texto\n",
    "def contar_palabras(texto):\n",
    "    palabras = texto.lower().split()\n",
    "    contador = {}\n",
    "    for palabra in palabras:\n",
    "        contador[palabra] = contador.get(palabra, 0) + 1\n",
    "    return contador\n",
    "\n",
    "# Función para reemplazar una palabra original por una nueva en el texto\n",
    "def reemplazar_palabras(texto, palabra_original, palabra_nueva):\n",
    "    palabras = texto.split()\n",
    "    palabras_reemplazadas = [palabra_nueva if p == palabra_original else p for p in palabras]\n",
    "    return ' '.join(palabras_reemplazadas)\n",
    "\n",
    "# Función para eliminar una palabra del texto\n",
    "def eliminar_palabra(texto, palabra_a_eliminar):\n",
    "    palabras = texto.split()\n",
    "    palabras_eliminadas = [p for p in palabras if p != palabra_a_eliminar]\n",
    "    return ' '.join(palabras_eliminadas)\n",
    "\n",
    "# Función principal que procesa el texto según la opción\n",
    "def procesar_texto(texto, opcion, *args):\n",
    "    if opcion == \"contar\":\n",
    "        return contar_palabras(texto)\n",
    "    elif opcion == \"reemplazar\":\n",
    "        if len(args) != 2:\n",
    "            return \"Error: reemplazar requiere dos argumentos: palabra_original y palabra_nueva\"\n",
    "        return reemplazar_palabras(texto, args[0], args[1])\n",
    "    elif opcion == \"eliminar\":\n",
    "        if len(args) != 1:\n",
    "            return \"Error: eliminar requiere un argumento: palabra_a_eliminar\"\n",
    "        return eliminar_palabra(texto, args[0])\n",
    "    else:\n",
    "        return \"Opción no válida\"\n",
    "\n",
    "# Ejemplo de uso de procesar_texto\n",
    "texto_ejemplo = \"Hola, este es un ejemplo de texto. Este texto es solo un ejemplo.\"\n",
    "\n",
    "# Contar palabras\n",
    "print(procesar_texto(texto_ejemplo, \"contar\"))\n",
    "\n",
    "# Reemplazar palabras\n",
    "print(procesar_texto(texto_ejemplo, \"reemplazar\", \"ejemplo\", \"muestra\"))\n",
    "\n",
    "# Eliminar palabras\n",
    "print(procesar_texto(texto_ejemplo, \"eliminar\", \"es\"))\n"
   ]
  },
  {
   "cell_type": "code",
   "execution_count": null,
   "id": "d719f374",
   "metadata": {},
   "outputs": [
    {
     "data": {
      "text/plain": [
       "'Es de noche'"
      ]
     },
     "execution_count": 27,
     "metadata": {},
     "output_type": "execute_result"
    }
   ],
   "source": [
    "# Ejercicio 37: Genera un programa que nos diga si es de noche, de día o tarde según la hora proporcionada por el usuario.\n",
    "def momento_del_dia(hora):\n",
    "    if 6 <= hora < 12:\n",
    "        return \"Es de día\"\n",
    "    elif 12 <= hora < 20:\n",
    "        return \"Es tarde\"\n",
    "    else:\n",
    "        return \"Es de noche\"\n",
    "    \n",
    "# Ejemplo ejercicio 38:\n",
    "hora = 5\n",
    "momento_del_dia(hora)"
   ]
  },
  {
   "cell_type": "code",
   "execution_count": null,
   "id": "5676d324",
   "metadata": {},
   "outputs": [
    {
     "data": {
      "text/plain": [
       "'Muy bien'"
      ]
     },
     "execution_count": 28,
     "metadata": {},
     "output_type": "execute_result"
    }
   ],
   "source": [
    "# Ejercicio 38: Escribe un programa que determine qué calificación en texto tiene un alumno en base a su calificación numérica. \n",
    "def calificacion_texto(nota):\n",
    "    if 0 <= nota <= 69:\n",
    "        return \"Insuficiente\"\n",
    "    elif 70 <= nota <= 79:\n",
    "        return \"Bien\"\n",
    "    elif 80 <= nota <= 89:\n",
    "        return \"Muy bien\"\n",
    "    elif 90 <= nota <= 100:\n",
    "        return \"Excelente\"\n",
    "    else:\n",
    "        return \"Nota inválida\"\n",
    "\n",
    "# Ejemplo ejercicio 38:\n",
    "nota = 85\n",
    "calificacion_texto(nota)"
   ]
  },
  {
   "cell_type": "code",
   "execution_count": 28,
   "id": "57726813",
   "metadata": {},
   "outputs": [
    {
     "name": "stdout",
     "output_type": "stream",
     "text": [
      "50\n",
      "153.9384\n",
      "12.0\n"
     ]
    }
   ],
   "source": [
    "# Ejercicio 39: Escribe una función que tome dos parámetros: figura (una cadena que puede ser \"rectangulo\", \"circulo\" o \"triángulo\") \n",
    "# y datos (una tupla con los datos necesarios para calcular el área de la figura).\n",
    "def calcular_area(figura, datos):\n",
    "    if figura == \"rectangulo\":\n",
    "        # Datos: (base, altura)\n",
    "        base, altura = datos\n",
    "        area = base * altura\n",
    "    elif figura == \"circulo\":\n",
    "        # Datos: (radio,)\n",
    "        radio, = datos\n",
    "        area = 3.1416 * radio ** 2\n",
    "    elif figura == \"triangulo\":\n",
    "        # Datos: (base, altura)\n",
    "        base, altura = datos\n",
    "        area = (base * altura) / 2\n",
    "    else:\n",
    "        raise ValueError(f\"Figura '{figura}' no reconocida.\")\n",
    "\n",
    "    return area\n",
    "\n",
    "# Ejemplo de uso:\n",
    "print(calcular_area(\"rectangulo\", (5, 10)))\n",
    "print(calcular_area(\"circulo\", (7,)))\n",
    "print(calcular_area(\"triangulo\", (4, 6)))"
   ]
  },
  {
   "cell_type": "code",
   "execution_count": 29,
   "id": "fc7f6ad5",
   "metadata": {},
   "outputs": [
    {
     "name": "stdout",
     "output_type": "stream",
     "text": [
      "El precio final de tu compra es: 2.00€\n"
     ]
    }
   ],
   "source": [
    "# Ejercicio 40: escribe un programa en Python que utilice condicionales para determinar el monto final de una compra en una tienda en línea, \n",
    "# después de aplicar un descuento\n",
    "precio = float(input(\"Ingresa el precio original del artículo: \"))\n",
    "\n",
    "# Preguntar si tiene cupón de descuento\n",
    "respuesta = input(\"¿Tienes un cupón de descuento? (sí/no): \").strip().lower()\n",
    "\n",
    "descuento = 0  # Valor por defecto si no hay cupón\n",
    "\n",
    "if respuesta == \"sí\" or respuesta == \"si\":\n",
    "    valor_cupon = float(input(\"Ingresa el valor del cupón de descuento: \"))\n",
    "    if valor_cupon > 0:\n",
    "        descuento = valor_cupon\n",
    "    else:\n",
    "        print(\"El valor del cupón no es válido. No se aplicará descuento.\")\n",
    "elif respuesta == \"no\":\n",
    "    print(\"No se aplicará ningún descuento.\")\n",
    "else:\n",
    "    print(\"Respuesta no reconocida. Sin descuento.\")\n",
    "\n",
    "# Calcular el precio final\n",
    "precio_final = precio - descuento\n",
    "if precio_final < 0:\n",
    "    precio_final = 0  # Para evitar precios negativos\n",
    "\n",
    "print(f\"El precio final de tu compra es: {precio_final:.2f}€\")"
   ]
  }
 ],
 "metadata": {
  "kernelspec": {
   "display_name": "Python 3",
   "language": "python",
   "name": "python3"
  },
  "language_info": {
   "codemirror_mode": {
    "name": "ipython",
    "version": 3
   },
   "file_extension": ".py",
   "mimetype": "text/x-python",
   "name": "python",
   "nbconvert_exporter": "python",
   "pygments_lexer": "ipython3",
   "version": "3.13.2"
  }
 },
 "nbformat": 4,
 "nbformat_minor": 5
}
